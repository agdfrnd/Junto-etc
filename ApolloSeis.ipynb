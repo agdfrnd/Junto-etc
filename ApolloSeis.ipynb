{
 "cells": [
  {
   "cell_type": "code",
   "execution_count": 1,
   "metadata": {},
   "outputs": [],
   "source": [
    "from obspy import read as oread"
   ]
  },
  {
   "cell_type": "code",
   "execution_count": 2,
   "metadata": {},
   "outputs": [],
   "source": [
    "from os.path import dirname, join as pjoin\n",
    "from os import listdir"
   ]
  },
  {
   "cell_type": "code",
   "execution_count": 3,
   "metadata": {},
   "outputs": [],
   "source": [
    "from datetime import datetime as dt"
   ]
  },
  {
   "cell_type": "code",
   "execution_count": 4,
   "metadata": {},
   "outputs": [],
   "source": [
    "import numpy as np\n",
    "import scipy.io.wavfile"
   ]
  },
  {
   "cell_type": "code",
   "execution_count": 5,
   "metadata": {},
   "outputs": [],
   "source": [
    "year = 1969\n",
    "month = 11\n",
    "day = 19\n",
    "day_of_year = dt(year=year, month=month, day=day).timetuple().tm_yday\n",
    "\n",
    "miniseedroot = '/Users/alex/Downloads/Apollo/{}/'.format(year)\n",
    "station = 'S12'\n",
    "channel = 'MH1'\n",
    "subfolder = pjoin(miniseedroot, station, channel)\n",
    "\n",
    "seedfilename = '{}.XA..{}.{}.{}'.format(station, channel, year, day_of_year)\n",
    "seedfilepath = pjoin(subfolder, seedfilename)"
   ]
  },
  {
   "cell_type": "code",
   "execution_count": 6,
   "metadata": {},
   "outputs": [
    {
     "name": "stdout",
     "output_type": "stream",
     "text": [
      "1 Trace(s) in Stream:\n",
      "XA.S12..MH1 | 1969-11-19T14:23:22.942900Z - 1969-11-19T23:59:59.924032Z | 6.6 Hz, 229206 samples\n"
     ]
    }
   ],
   "source": [
    "st = oread(seedfilepath)\n",
    "print(st)"
   ]
  },
  {
   "cell_type": "code",
   "execution_count": 7,
   "metadata": {},
   "outputs": [],
   "source": [
    "wf = st[0].data"
   ]
  },
  {
   "cell_type": "code",
   "execution_count": 8,
   "metadata": {},
   "outputs": [],
   "source": [
    "scipy.io.wavfile.write('{}-{}-{}{}.wav'.format(station, channel, year, day_of_year), 8000, wf/512)"
   ]
  },
  {
   "cell_type": "code",
   "execution_count": 92,
   "metadata": {},
   "outputs": [],
   "source": [
    "year = 1970\n",
    "miniseedroot = '/Users/alex/Downloads/Apollo/{}/'.format(year)\n",
    "station = 'S12'\n",
    "\n",
    "for ch in ('MH1','MH2','MHZ'):\n",
    "    subf = subfolder = pjoin(miniseedroot, station, ch)\n",
    "    bpsf = listdir(subf)\n",
    "    \n",
    "    oreaditwontyou = lambda b: oread(pjoin(subf,b))\n",
    "    stacktraces = lambda st: np.hstack([tr.data for tr in st])\n",
    "    \n",
    "    snorp = np.hstack([stacktraces(oreaditwontyou(b)) for b in bpsf])\n",
    "    scipy.io.wavfile.write('{}-{}-{}.wav'.format(station, ch, year), 48000, snorp/512)"
   ]
  },
  {
   "cell_type": "code",
   "execution_count": 9,
   "metadata": {},
   "outputs": [],
   "source": [
    "scipy.io.wavfile.write('{}-{}-{}{}.wav'.format(station, channel, year, day_of_year), 48000, wf.astype('float32')/512)"
   ]
  },
  {
   "cell_type": "code",
   "execution_count": 40,
   "metadata": {},
   "outputs": [],
   "source": [
    "doy = lambda m,d: dt(year=year, month=m, day=d).timetuple().tm_yday\n",
    "\n",
    "#1 day = 572400 samples => 11.925 s\n",
    "\n",
    "def offset_smp(m,d,hh,mm,ss=0):\n",
    "    delta_d = doy(m,d) - 324        # the first day is #323 but is incomplete (229206 samples)\n",
    "                                    # a ~real~ program would handle date-times during/before(!) that day buuuut\n",
    "    delta_d += (ss/3600 + mm/60 + hh)/24\n",
    "    return int(229206 + (delta_d * 572400))    \n",
    "\n",
    "def offset_time(m,d,hh,mm,ss=0):\n",
    "    smp = offset_smp(m,d,hh,mm,ss)\n",
    "    offs_s = smp / 48000\n",
    "    offs_m = offs_s // 60\n",
    "    offs_s -= offs_m * 60\n",
    "    return (offs_m, offs_s)"
   ]
  },
  {
   "cell_type": "code",
   "execution_count": 54,
   "metadata": {},
   "outputs": [
    {
     "data": {
      "text/plain": [
       "11335753"
      ]
     },
     "execution_count": 54,
     "metadata": {},
     "output_type": "execute_result"
    }
   ],
   "source": [
    "#first day:     1969-11-19T14:23:22.942900Z - 1969-11-19T23:59:59.924032Z, 229206 samples (EOD @ 0:04.775)\n",
    "#full moon:     1969-11-23T23:53Z => 0:52.417 (2516023 smp)\n",
    "#last quarter:  1969-12-02T03:51Z => 2:29.788\n",
    "#new moon:      1969-12-09T09:41Z => 3:56.162 (11335753 smp)\n",
    "#first quarter: 1969-12-16T01:09Z => 5:15.397\n",
    "#full moon:     1969-12-23T17:34Z => 6:47.029 (19537371 smp)\n",
    "#last quarter:  1969-12-31T22:52Z => 8:25.062\n",
    "\n",
    "offset_smp(12,9,9,41)"
   ]
  },
  {
   "cell_type": "code",
   "execution_count": 121,
   "metadata": {},
   "outputs": [],
   "source": [
    "full1 = offset_smp(11,23,23,53)  # 2516023\n",
    "new1 = offset_smp(12,9,9,41)     # 11335753\n",
    "full2 = offset_smp(12,23,17,34)  # 19537371\n",
    "\n",
    "full_period = full2 - full1\n",
    "cos_phase = lambda smp: np.cos(np.pi*(smp-2516023)/full_period)**2"
   ]
  },
  {
   "cell_type": "code",
   "execution_count": 58,
   "metadata": {},
   "outputs": [
    {
     "data": {
      "text/plain": [
       "11335753"
      ]
     },
     "execution_count": 58,
     "metadata": {},
     "output_type": "execute_result"
    }
   ],
   "source": [
    "new1"
   ]
  },
  {
   "cell_type": "code",
   "execution_count": 117,
   "metadata": {},
   "outputs": [],
   "source": [
    "def lin_phase(smp):\n",
    "    a = (smp-2516023)/(full_period/2)\n",
    "    b = abs(a % 2 - 1)\n",
    "    return b"
   ]
  },
  {
   "cell_type": "code",
   "execution_count": 125,
   "metadata": {},
   "outputs": [
    {
     "data": {
      "text/plain": [
       "([0.7994163162772069, 1.0, 0.0032502376777471943, 1.0],\n",
       " [0.7043685376739846, 1.0, 0.03631392766307351, 1.0])"
      ]
     },
     "execution_count": 125,
     "metadata": {},
     "output_type": "execute_result"
    }
   ],
   "source": [
    "test_pts = (0, full1, new1, full2)\n",
    "[cos_phase(k) for k in test_pts], [lin_phase(k) for k in test_pts]"
   ]
  },
  {
   "cell_type": "code",
   "execution_count": 126,
   "metadata": {},
   "outputs": [
    {
     "data": {
      "text/plain": [
       "[<matplotlib.lines.Line2D at 0x7fbb986b2950>]"
      ]
     },
     "execution_count": 126,
     "metadata": {},
     "output_type": "execute_result"
    },
    {
     "data": {
      "image/png": "[encoded data removed]",
      "text/plain": [
       "<Figure size 432x288 with 1 Axes>"
      ]
     },
     "metadata": {
      "needs_background": "light"
     },
     "output_type": "display_data"
    }
   ],
   "source": [
    "plt.plot([lin_phase(k) for k in range(0, full2, 10000)])"
   ]
  },
  {
   "cell_type": "code",
   "execution_count": 127,
   "metadata": {},
   "outputs": [
    {
     "data": {
      "text/plain": [
       "[<matplotlib.lines.Line2D at 0x7fbb40134f50>]"
      ]
     },
     "execution_count": 127,
     "metadata": {},
     "output_type": "execute_result"
    },
    {
     "data": {
      "image/png": "[encoded data removed]",
      "text/plain": [
       "<Figure size 432x288 with 1 Axes>"
      ]
     },
     "metadata": {
      "needs_background": "light"
     },
     "output_type": "display_data"
    }
   ],
   "source": [
    "plt.plot([cos_phase(k) for k in range(0, full2, 10000)])"
   ]
  },
  {
   "cell_type": "code",
   "execution_count": null,
   "metadata": {},
   "outputs": [],
   "source": []
  }
 ],
 "metadata": {
  "kernelspec": {
   "display_name": "Python 3",
   "language": "python",
   "name": "python3"
  },
  "language_info": {
   "codemirror_mode": {
    "name": "ipython",
    "version": 3
   },
   "file_extension": ".py",
   "mimetype": "text/x-python",
   "name": "python",
   "nbconvert_exporter": "python",
   "pygments_lexer": "ipython3",
   "version": "3.7.4"
  }
 },
 "nbformat": 4,
 "nbformat_minor": 2
}

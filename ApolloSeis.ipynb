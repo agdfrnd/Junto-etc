{
 "cells": [
  {
   "cell_type": "code",
   "execution_count": 1,
   "metadata": {},
   "outputs": [],
   "source": [
    "from obspy import read as oread"
   ]
  },
  {
   "cell_type": "code",
   "execution_count": 2,
   "metadata": {},
   "outputs": [],
   "source": [
    "from os.path import dirname, join as pjoin\n",
    "from os import listdir"
   ]
  },
  {
   "cell_type": "code",
   "execution_count": 3,
   "metadata": {},
   "outputs": [],
   "source": [
    "from datetime import datetime as dt"
   ]
  },
  {
   "cell_type": "code",
   "execution_count": 4,
   "metadata": {},
   "outputs": [],
   "source": [
    "import numpy as np\n",
    "import scipy.io.wavfile"
   ]
  },
  {
   "cell_type": "code",
   "execution_count": 5,
   "metadata": {},
   "outputs": [],
   "source": [
    "year = 1969\n",
    "month = 12\n",
    "day = 31\n",
    "day_of_year = dt(year=year, month=month, day=day).timetuple().tm_yday\n",
    "\n",
    "miniseedroot = '/Users/alex/Downloads/Apollo/{}/'.format(year)\n",
    "station = 'S12'\n",
    "channel = 'MH1'\n",
    "subfolder = pjoin(miniseedroot, station, channel)\n",
    "\n",
    "seedfilename = '{}.XA..{}.{}.{}'.format(station, channel, year, day_of_year)\n",
    "seedfilepath = pjoin(subfolder, seedfilename)"
   ]
  },
  {
   "cell_type": "code",
   "execution_count": 6,
   "metadata": {},
   "outputs": [
    {
     "name": "stdout",
     "output_type": "stream",
     "text": [
      "1 Trace(s) in Stream:\n",
      "XA.S12..MH1 | 1969-12-31T00:00:00.100900Z - 1969-12-31T23:59:59.949957Z | 6.6 Hz, 572400 samples\n"
     ]
    }
   ],
   "source": [
    "st = oread(seedfilepath)\n",
    "print(st)"
   ]
  },
  {
   "cell_type": "code",
   "execution_count": 7,
   "metadata": {},
   "outputs": [],
   "source": [
    "wf = st[0].data"
   ]
  },
  {
   "cell_type": "code",
   "execution_count": 8,
   "metadata": {},
   "outputs": [],
   "source": [
    "scipy.io.wavfile.write('{}-{}-{}{}.wav'.format(station, channel, year, day_of_year), 8000, wf/512)"
   ]
  },
  {
   "cell_type": "code",
   "execution_count": 92,
   "metadata": {},
   "outputs": [],
   "source": [
    "year = 1970\n",
    "miniseedroot = '/Users/alex/Downloads/Apollo/{}/'.format(year)\n",
    "station = 'S12'\n",
    "\n",
    "for ch in ('MH1','MH2','MHZ'):\n",
    "    subf = subfolder = pjoin(miniseedroot, station, ch)\n",
    "    bpsf = listdir(subf)\n",
    "    \n",
    "    oreaditwontyou = lambda b: oread(pjoin(subf,b))\n",
    "    stacktraces = lambda st: np.hstack([tr.data for tr in st])\n",
    "    \n",
    "    snorp = np.hstack([stacktraces(oreaditwontyou(b)) for b in bpsf])\n",
    "    scipy.io.wavfile.write('{}-{}-{}.wav'.format(station, ch, year), 48000, snorp/512)"
   ]
  },
  {
   "cell_type": "code",
   "execution_count": 88,
   "metadata": {},
   "outputs": [
    {
     "name": "stdout",
     "output_type": "stream",
     "text": [
      "2 Trace(s) in Stream:\n",
      "XA.S12..MH1 | 1969-11-30T00:00:00.096000Z - 1969-11-30T14:22:16.246943Z | 6.6 Hz, 342753 samples\n",
      "XA.S12..MH1 | 1969-11-30T14:22:16.548800Z - 1969-11-30T23:59:59.945026Z | 6.6 Hz, 229646 samples\n"
     ]
    }
   ],
   "source": []
  },
  {
   "cell_type": "code",
   "execution_count": 9,
   "metadata": {},
   "outputs": [],
   "source": [
    "scipy.io.wavfile.write('{}-{}-{}{}.wav'.format(station, channel, year, day_of_year), 48000, wf.astype('float32')/512)"
   ]
  },
  {
   "cell_type": "code",
   "execution_count": null,
   "metadata": {},
   "outputs": [],
   "source": []
  }
 ],
 "metadata": {
  "kernelspec": {
   "display_name": "Python 3",
   "language": "python",
   "name": "python3"
  },
  "language_info": {
   "codemirror_mode": {
    "name": "ipython",
    "version": 3
   },
   "file_extension": ".py",
   "mimetype": "text/x-python",
   "name": "python",
   "nbconvert_exporter": "python",
   "pygments_lexer": "ipython3",
   "version": "3.7.4"
  }
 },
 "nbformat": 4,
 "nbformat_minor": 2
}
